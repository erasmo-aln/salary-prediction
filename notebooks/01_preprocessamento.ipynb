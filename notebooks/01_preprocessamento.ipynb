{
 "cells": [
  {
   "cell_type": "code",
   "execution_count": 1,
   "metadata": {},
   "outputs": [],
   "source": [
    "import pandas as pd\n",
    "import numpy as np\n",
    "import matplotlib.pyplot as plt\n",
    "import seaborn as sns\n",
    "\n",
    "pd.set_option('display.max_colwidth', 100)\n",
    "pd.set_option('display.max_columns', None)\n",
    "pd.set_option('display.width', None)\n",
    "pd.set_option('expand_frame_repr', False)"
   ]
  },
  {
   "cell_type": "code",
   "execution_count": 47,
   "metadata": {},
   "outputs": [],
   "source": [
    "columns = {\n",
    "    'MainBranch': 'main_branch',\n",
    "    'Age': 'age',\n",
    "    'Employment': 'employment',\n",
    "    'RemoteWork': 'work_type',\n",
    "    'EdLevel': 'education',\n",
    "    'YearsCodePro': 'experience',\n",
    "    'DevType': 'profession',\n",
    "    'Country': 'country',\n",
    "    'CompTotal': 'yearly_salary'\n",
    "}"
   ]
  },
  {
   "cell_type": "code",
   "execution_count": 87,
   "metadata": {},
   "outputs": [],
   "source": [
    "df = pd.read_csv('../data/raw/survey_results_public_2024.csv').rename(columns=columns)[columns.values()]"
   ]
  },
  {
   "cell_type": "code",
   "execution_count": 54,
   "metadata": {},
   "outputs": [
    {
     "name": "stdout",
     "output_type": "stream",
     "text": [
      "(65437, 9)\n"
     ]
    },
    {
     "data": {
      "text/html": [
       "<div>\n",
       "<style scoped>\n",
       "    .dataframe tbody tr th:only-of-type {\n",
       "        vertical-align: middle;\n",
       "    }\n",
       "\n",
       "    .dataframe tbody tr th {\n",
       "        vertical-align: top;\n",
       "    }\n",
       "\n",
       "    .dataframe thead th {\n",
       "        text-align: right;\n",
       "    }\n",
       "</style>\n",
       "<table border=\"1\" class=\"dataframe\">\n",
       "  <thead>\n",
       "    <tr style=\"text-align: right;\">\n",
       "      <th></th>\n",
       "      <th>main_branch</th>\n",
       "      <th>age</th>\n",
       "      <th>employment</th>\n",
       "      <th>work_type</th>\n",
       "      <th>education</th>\n",
       "      <th>experience</th>\n",
       "      <th>profession</th>\n",
       "      <th>country</th>\n",
       "      <th>yearly_salary</th>\n",
       "    </tr>\n",
       "  </thead>\n",
       "  <tbody>\n",
       "    <tr>\n",
       "      <th>0</th>\n",
       "      <td>I am a developer by profession</td>\n",
       "      <td>Under 18 years old</td>\n",
       "      <td>Employed, full-time</td>\n",
       "      <td>Remote</td>\n",
       "      <td>Primary/elementary school</td>\n",
       "      <td>NaN</td>\n",
       "      <td>NaN</td>\n",
       "      <td>United States of America</td>\n",
       "      <td>NaN</td>\n",
       "    </tr>\n",
       "    <tr>\n",
       "      <th>1</th>\n",
       "      <td>I am a developer by profession</td>\n",
       "      <td>35-44 years old</td>\n",
       "      <td>Employed, full-time</td>\n",
       "      <td>Remote</td>\n",
       "      <td>Bachelor’s degree (B.A., B.S., B.Eng., etc.)</td>\n",
       "      <td>17</td>\n",
       "      <td>Developer, full-stack</td>\n",
       "      <td>United Kingdom of Great Britain and Northern Ireland</td>\n",
       "      <td>NaN</td>\n",
       "    </tr>\n",
       "    <tr>\n",
       "      <th>2</th>\n",
       "      <td>I am a developer by profession</td>\n",
       "      <td>45-54 years old</td>\n",
       "      <td>Employed, full-time</td>\n",
       "      <td>Remote</td>\n",
       "      <td>Master’s degree (M.A., M.S., M.Eng., MBA, etc.)</td>\n",
       "      <td>27</td>\n",
       "      <td>Developer Experience</td>\n",
       "      <td>United Kingdom of Great Britain and Northern Ireland</td>\n",
       "      <td>NaN</td>\n",
       "    </tr>\n",
       "    <tr>\n",
       "      <th>3</th>\n",
       "      <td>I am learning to code</td>\n",
       "      <td>18-24 years old</td>\n",
       "      <td>Student, full-time</td>\n",
       "      <td>NaN</td>\n",
       "      <td>Some college/university study without earning a degree</td>\n",
       "      <td>NaN</td>\n",
       "      <td>Developer, full-stack</td>\n",
       "      <td>Canada</td>\n",
       "      <td>NaN</td>\n",
       "    </tr>\n",
       "    <tr>\n",
       "      <th>4</th>\n",
       "      <td>I am a developer by profession</td>\n",
       "      <td>18-24 years old</td>\n",
       "      <td>Student, full-time</td>\n",
       "      <td>NaN</td>\n",
       "      <td>Secondary school (e.g. American high school, German Realschule or Gymnasium, etc.)</td>\n",
       "      <td>NaN</td>\n",
       "      <td>Developer, full-stack</td>\n",
       "      <td>Norway</td>\n",
       "      <td>NaN</td>\n",
       "    </tr>\n",
       "  </tbody>\n",
       "</table>\n",
       "</div>"
      ],
      "text/plain": [
       "                      main_branch                 age           employment work_type                                                                           education experience             profession                                               country  yearly_salary\n",
       "0  I am a developer by profession  Under 18 years old  Employed, full-time    Remote                                                           Primary/elementary school        NaN                    NaN                              United States of America            NaN\n",
       "1  I am a developer by profession     35-44 years old  Employed, full-time    Remote                                        Bachelor’s degree (B.A., B.S., B.Eng., etc.)         17  Developer, full-stack  United Kingdom of Great Britain and Northern Ireland            NaN\n",
       "2  I am a developer by profession     45-54 years old  Employed, full-time    Remote                                     Master’s degree (M.A., M.S., M.Eng., MBA, etc.)         27   Developer Experience  United Kingdom of Great Britain and Northern Ireland            NaN\n",
       "3           I am learning to code     18-24 years old   Student, full-time       NaN                              Some college/university study without earning a degree        NaN  Developer, full-stack                                                Canada            NaN\n",
       "4  I am a developer by profession     18-24 years old   Student, full-time       NaN  Secondary school (e.g. American high school, German Realschule or Gymnasium, etc.)        NaN  Developer, full-stack                                                Norway            NaN"
      ]
     },
     "execution_count": 54,
     "metadata": {},
     "output_type": "execute_result"
    }
   ],
   "source": [
    "print(df.shape)\n",
    "df.head()"
   ]
  },
  {
   "cell_type": "markdown",
   "metadata": {},
   "source": [
    "## Main Branch"
   ]
  },
  {
   "cell_type": "code",
   "execution_count": 53,
   "metadata": {},
   "outputs": [
    {
     "data": {
      "text/plain": [
       "main_branch\n",
       "I am a developer by profession                                                           50207\n",
       "I am not primarily a developer, but I write code sometimes as part of my work/studies     6511\n",
       "I am learning to code                                                                     3875\n",
       "I code primarily as a hobby                                                               3334\n",
       "I used to be a developer by profession, but no longer am                                  1510\n",
       "Name: count, dtype: int64"
      ]
     },
     "execution_count": 53,
     "metadata": {},
     "output_type": "execute_result"
    }
   ],
   "source": [
    "df['main_branch'].value_counts()"
   ]
  },
  {
   "cell_type": "code",
   "execution_count": 92,
   "metadata": {},
   "outputs": [
    {
     "data": {
      "text/plain": [
       "0"
      ]
     },
     "execution_count": 92,
     "metadata": {},
     "output_type": "execute_result"
    }
   ],
   "source": [
    "df['main_branch'].isna().sum()"
   ]
  },
  {
   "cell_type": "code",
   "execution_count": 88,
   "metadata": {},
   "outputs": [
    {
     "name": "stdout",
     "output_type": "stream",
     "text": [
      "(50207, 9)\n"
     ]
    }
   ],
   "source": [
    "# We want only people that are developers\n",
    "\n",
    "df = df.loc[df['main_branch'] == 'I am a developer by profession']\n",
    "\n",
    "print(df.shape)"
   ]
  },
  {
   "cell_type": "markdown",
   "metadata": {},
   "source": [
    "## Age"
   ]
  },
  {
   "cell_type": "code",
   "execution_count": 67,
   "metadata": {},
   "outputs": [
    {
     "data": {
      "text/plain": [
       "age\n",
       "25-34 years old       20887\n",
       "35-44 years old       12705\n",
       "18-24 years old        9032\n",
       "45-54 years old        4937\n",
       "55-64 years old        1850\n",
       "65 years or older       353\n",
       "Under 18 years old      296\n",
       "Prefer not to say       147\n",
       "Name: count, dtype: int64"
      ]
     },
     "execution_count": 67,
     "metadata": {},
     "output_type": "execute_result"
    }
   ],
   "source": [
    "df['age'].value_counts()"
   ]
  },
  {
   "cell_type": "code",
   "execution_count": 93,
   "metadata": {},
   "outputs": [
    {
     "data": {
      "text/plain": [
       "0"
      ]
     },
     "execution_count": 93,
     "metadata": {},
     "output_type": "execute_result"
    }
   ],
   "source": [
    "df['age'].isna().sum()"
   ]
  },
  {
   "cell_type": "code",
   "execution_count": 89,
   "metadata": {},
   "outputs": [],
   "source": [
    "# The \"prefer not to say\" will be imputed as the mode\n",
    "\n",
    "df.loc[df['age'] == 'Prefer not to say', 'age'] = df['age'].mode().values[0]"
   ]
  },
  {
   "cell_type": "code",
   "execution_count": 70,
   "metadata": {},
   "outputs": [
    {
     "data": {
      "text/plain": [
       "age\n",
       "25-34 years old       21034\n",
       "35-44 years old       12705\n",
       "18-24 years old        9032\n",
       "45-54 years old        4937\n",
       "55-64 years old        1850\n",
       "65 years or older       353\n",
       "Under 18 years old      296\n",
       "Name: count, dtype: int64"
      ]
     },
     "execution_count": 70,
     "metadata": {},
     "output_type": "execute_result"
    }
   ],
   "source": [
    "df['age'].value_counts()"
   ]
  },
  {
   "cell_type": "markdown",
   "metadata": {},
   "source": [
    "## Employment"
   ]
  },
  {
   "cell_type": "code",
   "execution_count": 71,
   "metadata": {},
   "outputs": [
    {
     "data": {
      "text/html": [
       "<div>\n",
       "<style scoped>\n",
       "    .dataframe tbody tr th:only-of-type {\n",
       "        vertical-align: middle;\n",
       "    }\n",
       "\n",
       "    .dataframe tbody tr th {\n",
       "        vertical-align: top;\n",
       "    }\n",
       "\n",
       "    .dataframe thead th {\n",
       "        text-align: right;\n",
       "    }\n",
       "</style>\n",
       "<table border=\"1\" class=\"dataframe\">\n",
       "  <thead>\n",
       "    <tr style=\"text-align: right;\">\n",
       "      <th></th>\n",
       "      <th>main_branch</th>\n",
       "      <th>age</th>\n",
       "      <th>employment</th>\n",
       "      <th>work_type</th>\n",
       "      <th>education</th>\n",
       "      <th>experience</th>\n",
       "      <th>profession</th>\n",
       "      <th>country</th>\n",
       "      <th>yearly_salary</th>\n",
       "    </tr>\n",
       "  </thead>\n",
       "  <tbody>\n",
       "    <tr>\n",
       "      <th>0</th>\n",
       "      <td>I am a developer by profession</td>\n",
       "      <td>Under 18 years old</td>\n",
       "      <td>Employed, full-time</td>\n",
       "      <td>Remote</td>\n",
       "      <td>Primary/elementary school</td>\n",
       "      <td>NaN</td>\n",
       "      <td>NaN</td>\n",
       "      <td>United States of America</td>\n",
       "      <td>NaN</td>\n",
       "    </tr>\n",
       "    <tr>\n",
       "      <th>1</th>\n",
       "      <td>I am a developer by profession</td>\n",
       "      <td>35-44 years old</td>\n",
       "      <td>Employed, full-time</td>\n",
       "      <td>Remote</td>\n",
       "      <td>Bachelor’s degree (B.A., B.S., B.Eng., etc.)</td>\n",
       "      <td>17</td>\n",
       "      <td>Developer, full-stack</td>\n",
       "      <td>United Kingdom of Great Britain and Northern Ireland</td>\n",
       "      <td>NaN</td>\n",
       "    </tr>\n",
       "    <tr>\n",
       "      <th>2</th>\n",
       "      <td>I am a developer by profession</td>\n",
       "      <td>45-54 years old</td>\n",
       "      <td>Employed, full-time</td>\n",
       "      <td>Remote</td>\n",
       "      <td>Master’s degree (M.A., M.S., M.Eng., MBA, etc.)</td>\n",
       "      <td>27</td>\n",
       "      <td>Developer Experience</td>\n",
       "      <td>United Kingdom of Great Britain and Northern Ireland</td>\n",
       "      <td>NaN</td>\n",
       "    </tr>\n",
       "    <tr>\n",
       "      <th>4</th>\n",
       "      <td>I am a developer by profession</td>\n",
       "      <td>18-24 years old</td>\n",
       "      <td>Student, full-time</td>\n",
       "      <td>NaN</td>\n",
       "      <td>Secondary school (e.g. American high school, German Realschule or Gymnasium, etc.)</td>\n",
       "      <td>NaN</td>\n",
       "      <td>Developer, full-stack</td>\n",
       "      <td>Norway</td>\n",
       "      <td>NaN</td>\n",
       "    </tr>\n",
       "    <tr>\n",
       "      <th>9</th>\n",
       "      <td>I am a developer by profession</td>\n",
       "      <td>35-44 years old</td>\n",
       "      <td>Independent contractor, freelancer, or self-employed</td>\n",
       "      <td>Remote</td>\n",
       "      <td>Master’s degree (M.A., M.S., M.Eng., MBA, etc.)</td>\n",
       "      <td>11</td>\n",
       "      <td>Developer, full-stack</td>\n",
       "      <td>Serbia</td>\n",
       "      <td>NaN</td>\n",
       "    </tr>\n",
       "  </tbody>\n",
       "</table>\n",
       "</div>"
      ],
      "text/plain": [
       "                      main_branch                 age                                            employment work_type                                                                           education experience             profession                                               country  yearly_salary\n",
       "0  I am a developer by profession  Under 18 years old                                   Employed, full-time    Remote                                                           Primary/elementary school        NaN                    NaN                              United States of America            NaN\n",
       "1  I am a developer by profession     35-44 years old                                   Employed, full-time    Remote                                        Bachelor’s degree (B.A., B.S., B.Eng., etc.)         17  Developer, full-stack  United Kingdom of Great Britain and Northern Ireland            NaN\n",
       "2  I am a developer by profession     45-54 years old                                   Employed, full-time    Remote                                     Master’s degree (M.A., M.S., M.Eng., MBA, etc.)         27   Developer Experience  United Kingdom of Great Britain and Northern Ireland            NaN\n",
       "4  I am a developer by profession     18-24 years old                                    Student, full-time       NaN  Secondary school (e.g. American high school, German Realschule or Gymnasium, etc.)        NaN  Developer, full-stack                                                Norway            NaN\n",
       "9  I am a developer by profession     35-44 years old  Independent contractor, freelancer, or self-employed    Remote                                     Master’s degree (M.A., M.S., M.Eng., MBA, etc.)         11  Developer, full-stack                                                Serbia            NaN"
      ]
     },
     "execution_count": 71,
     "metadata": {},
     "output_type": "execute_result"
    }
   ],
   "source": [
    "df.head()"
   ]
  },
  {
   "cell_type": "code",
   "execution_count": 94,
   "metadata": {},
   "outputs": [
    {
     "data": {
      "text/plain": [
       "0"
      ]
     },
     "execution_count": 94,
     "metadata": {},
     "output_type": "execute_result"
    }
   ],
   "source": [
    "df['employment'].isna().sum()"
   ]
  },
  {
   "cell_type": "code",
   "execution_count": 90,
   "metadata": {},
   "outputs": [],
   "source": [
    "# We want only people that works full time\n",
    "\n",
    "df = df.loc[df['employment'].str.contains('Employed, full-time')]"
   ]
  },
  {
   "cell_type": "markdown",
   "metadata": {},
   "source": [
    "## Work Type"
   ]
  },
  {
   "cell_type": "code",
   "execution_count": 91,
   "metadata": {},
   "outputs": [
    {
     "data": {
      "text/plain": [
       "work_type\n",
       "Hybrid (some remote, some in-person)    17344\n",
       "Remote                                  14661\n",
       "In-person                                7922\n",
       "Name: count, dtype: int64"
      ]
     },
     "execution_count": 91,
     "metadata": {},
     "output_type": "execute_result"
    }
   ],
   "source": [
    "df['work_type'].value_counts()"
   ]
  },
  {
   "cell_type": "code",
   "execution_count": 95,
   "metadata": {},
   "outputs": [
    {
     "data": {
      "text/plain": [
       "10"
      ]
     },
     "execution_count": 95,
     "metadata": {},
     "output_type": "execute_result"
    }
   ],
   "source": [
    "df['work_type'].isna().sum()"
   ]
  },
  {
   "cell_type": "code",
   "execution_count": 98,
   "metadata": {},
   "outputs": [],
   "source": [
    "df['work_type'] = df['work_type'].replace({'Hybrid (some remote, some in-person)': 'Hybrid'}).fillna('Hybrid')"
   ]
  },
  {
   "cell_type": "markdown",
   "metadata": {},
   "source": [
    "## Education"
   ]
  },
  {
   "cell_type": "code",
   "execution_count": 99,
   "metadata": {},
   "outputs": [
    {
     "data": {
      "text/html": [
       "<div>\n",
       "<style scoped>\n",
       "    .dataframe tbody tr th:only-of-type {\n",
       "        vertical-align: middle;\n",
       "    }\n",
       "\n",
       "    .dataframe tbody tr th {\n",
       "        vertical-align: top;\n",
       "    }\n",
       "\n",
       "    .dataframe thead th {\n",
       "        text-align: right;\n",
       "    }\n",
       "</style>\n",
       "<table border=\"1\" class=\"dataframe\">\n",
       "  <thead>\n",
       "    <tr style=\"text-align: right;\">\n",
       "      <th></th>\n",
       "      <th>main_branch</th>\n",
       "      <th>age</th>\n",
       "      <th>employment</th>\n",
       "      <th>work_type</th>\n",
       "      <th>education</th>\n",
       "      <th>experience</th>\n",
       "      <th>profession</th>\n",
       "      <th>country</th>\n",
       "      <th>yearly_salary</th>\n",
       "    </tr>\n",
       "  </thead>\n",
       "  <tbody>\n",
       "    <tr>\n",
       "      <th>0</th>\n",
       "      <td>I am a developer by profession</td>\n",
       "      <td>Under 18 years old</td>\n",
       "      <td>Employed, full-time</td>\n",
       "      <td>Remote</td>\n",
       "      <td>Primary/elementary school</td>\n",
       "      <td>NaN</td>\n",
       "      <td>NaN</td>\n",
       "      <td>United States of America</td>\n",
       "      <td>NaN</td>\n",
       "    </tr>\n",
       "    <tr>\n",
       "      <th>1</th>\n",
       "      <td>I am a developer by profession</td>\n",
       "      <td>35-44 years old</td>\n",
       "      <td>Employed, full-time</td>\n",
       "      <td>Remote</td>\n",
       "      <td>Bachelor’s degree (B.A., B.S., B.Eng., etc.)</td>\n",
       "      <td>17</td>\n",
       "      <td>Developer, full-stack</td>\n",
       "      <td>United Kingdom of Great Britain and Northern Ireland</td>\n",
       "      <td>NaN</td>\n",
       "    </tr>\n",
       "    <tr>\n",
       "      <th>2</th>\n",
       "      <td>I am a developer by profession</td>\n",
       "      <td>45-54 years old</td>\n",
       "      <td>Employed, full-time</td>\n",
       "      <td>Remote</td>\n",
       "      <td>Master’s degree (M.A., M.S., M.Eng., MBA, etc.)</td>\n",
       "      <td>27</td>\n",
       "      <td>Developer Experience</td>\n",
       "      <td>United Kingdom of Great Britain and Northern Ireland</td>\n",
       "      <td>NaN</td>\n",
       "    </tr>\n",
       "    <tr>\n",
       "      <th>11</th>\n",
       "      <td>I am a developer by profession</td>\n",
       "      <td>45-54 years old</td>\n",
       "      <td>Employed, full-time</td>\n",
       "      <td>In-person</td>\n",
       "      <td>Professional degree (JD, MD, Ph.D, Ed.D, etc.)</td>\n",
       "      <td>25</td>\n",
       "      <td>Developer Advocate</td>\n",
       "      <td>Poland</td>\n",
       "      <td>NaN</td>\n",
       "    </tr>\n",
       "    <tr>\n",
       "      <th>12</th>\n",
       "      <td>I am a developer by profession</td>\n",
       "      <td>35-44 years old</td>\n",
       "      <td>Employed, full-time</td>\n",
       "      <td>Hybrid</td>\n",
       "      <td>Bachelor’s degree (B.A., B.S., B.Eng., etc.)</td>\n",
       "      <td>12</td>\n",
       "      <td>Developer, back-end</td>\n",
       "      <td>United States of America</td>\n",
       "      <td>NaN</td>\n",
       "    </tr>\n",
       "  </tbody>\n",
       "</table>\n",
       "</div>"
      ],
      "text/plain": [
       "                       main_branch                 age           employment  work_type                                        education experience             profession                                               country  yearly_salary\n",
       "0   I am a developer by profession  Under 18 years old  Employed, full-time     Remote                        Primary/elementary school        NaN                    NaN                              United States of America            NaN\n",
       "1   I am a developer by profession     35-44 years old  Employed, full-time     Remote     Bachelor’s degree (B.A., B.S., B.Eng., etc.)         17  Developer, full-stack  United Kingdom of Great Britain and Northern Ireland            NaN\n",
       "2   I am a developer by profession     45-54 years old  Employed, full-time     Remote  Master’s degree (M.A., M.S., M.Eng., MBA, etc.)         27   Developer Experience  United Kingdom of Great Britain and Northern Ireland            NaN\n",
       "11  I am a developer by profession     45-54 years old  Employed, full-time  In-person   Professional degree (JD, MD, Ph.D, Ed.D, etc.)         25     Developer Advocate                                                Poland            NaN\n",
       "12  I am a developer by profession     35-44 years old  Employed, full-time     Hybrid     Bachelor’s degree (B.A., B.S., B.Eng., etc.)         12    Developer, back-end                              United States of America            NaN"
      ]
     },
     "execution_count": 99,
     "metadata": {},
     "output_type": "execute_result"
    }
   ],
   "source": [
    "df.head()"
   ]
  },
  {
   "cell_type": "code",
   "execution_count": 101,
   "metadata": {},
   "outputs": [
    {
     "data": {
      "text/plain": [
       "education\n",
       "Bachelor’s degree (B.A., B.S., B.Eng., etc.)                                          17637\n",
       "Master’s degree (M.A., M.S., M.Eng., MBA, etc.)                                       10890\n",
       "Some college/university study without earning a degree                                 3948\n",
       "Secondary school (e.g. American high school, German Realschule or Gymnasium, etc.)     1615\n",
       "Professional degree (JD, MD, Ph.D, Ed.D, etc.)                                         1582\n",
       "Associate degree (A.A., A.S., etc.)                                                    1123\n",
       "Something else                                                                          388\n",
       "Primary/elementary school                                                               167\n",
       "Name: count, dtype: int64"
      ]
     },
     "execution_count": 101,
     "metadata": {},
     "output_type": "execute_result"
    }
   ],
   "source": [
    "df['education'].value_counts()"
   ]
  },
  {
   "cell_type": "code",
   "execution_count": 102,
   "metadata": {},
   "outputs": [
    {
     "data": {
      "text/plain": [
       "2587"
      ]
     },
     "execution_count": 102,
     "metadata": {},
     "output_type": "execute_result"
    }
   ],
   "source": [
    "df['education'].isna().sum()"
   ]
  },
  {
   "cell_type": "code",
   "execution_count": 106,
   "metadata": {},
   "outputs": [],
   "source": [
    "education_mapping = {\n",
    "    'Primary/elementary school': 'Primary',\n",
    "    'Bachelor’s degree (B.A., B.S., B.Eng., etc.)': 'Bachelor',\n",
    "    'Master’s degree (M.A., M.S., M.Eng., MBA, etc.)': 'Master',\n",
    "    'Professional degree (JD, MD, Ph.D, Ed.D, etc.)': 'Doctor',\n",
    "    'Some college/university study without earning a degree': 'Other',\n",
    "    'Associate degree (A.A., A.S., etc.)': 'Other',\n",
    "    'Secondary school (e.g. American high school, German Realschule or Gymnasium, etc.)': 'Other',\n",
    "    'Something else': 'Other'\n",
    "}"
   ]
  },
  {
   "cell_type": "code",
   "execution_count": 107,
   "metadata": {},
   "outputs": [],
   "source": [
    "df['education'] = df['education'].replace(education_mapping).fillna('Other')"
   ]
  },
  {
   "cell_type": "code",
   "execution_count": 109,
   "metadata": {},
   "outputs": [
    {
     "data": {
      "text/html": [
       "<div>\n",
       "<style scoped>\n",
       "    .dataframe tbody tr th:only-of-type {\n",
       "        vertical-align: middle;\n",
       "    }\n",
       "\n",
       "    .dataframe tbody tr th {\n",
       "        vertical-align: top;\n",
       "    }\n",
       "\n",
       "    .dataframe thead th {\n",
       "        text-align: right;\n",
       "    }\n",
       "</style>\n",
       "<table border=\"1\" class=\"dataframe\">\n",
       "  <thead>\n",
       "    <tr style=\"text-align: right;\">\n",
       "      <th></th>\n",
       "      <th>main_branch</th>\n",
       "      <th>age</th>\n",
       "      <th>employment</th>\n",
       "      <th>work_type</th>\n",
       "      <th>education</th>\n",
       "      <th>experience</th>\n",
       "      <th>profession</th>\n",
       "      <th>country</th>\n",
       "      <th>yearly_salary</th>\n",
       "    </tr>\n",
       "  </thead>\n",
       "  <tbody>\n",
       "    <tr>\n",
       "      <th>0</th>\n",
       "      <td>I am a developer by profession</td>\n",
       "      <td>Under 18 years old</td>\n",
       "      <td>Employed, full-time</td>\n",
       "      <td>Remote</td>\n",
       "      <td>Primary</td>\n",
       "      <td>NaN</td>\n",
       "      <td>NaN</td>\n",
       "      <td>United States of America</td>\n",
       "      <td>NaN</td>\n",
       "    </tr>\n",
       "    <tr>\n",
       "      <th>1</th>\n",
       "      <td>I am a developer by profession</td>\n",
       "      <td>35-44 years old</td>\n",
       "      <td>Employed, full-time</td>\n",
       "      <td>Remote</td>\n",
       "      <td>Bachelor</td>\n",
       "      <td>17</td>\n",
       "      <td>Developer, full-stack</td>\n",
       "      <td>United Kingdom of Great Britain and Northern Ireland</td>\n",
       "      <td>NaN</td>\n",
       "    </tr>\n",
       "    <tr>\n",
       "      <th>2</th>\n",
       "      <td>I am a developer by profession</td>\n",
       "      <td>45-54 years old</td>\n",
       "      <td>Employed, full-time</td>\n",
       "      <td>Remote</td>\n",
       "      <td>Master</td>\n",
       "      <td>27</td>\n",
       "      <td>Developer Experience</td>\n",
       "      <td>United Kingdom of Great Britain and Northern Ireland</td>\n",
       "      <td>NaN</td>\n",
       "    </tr>\n",
       "    <tr>\n",
       "      <th>11</th>\n",
       "      <td>I am a developer by profession</td>\n",
       "      <td>45-54 years old</td>\n",
       "      <td>Employed, full-time</td>\n",
       "      <td>In-person</td>\n",
       "      <td>Doctor</td>\n",
       "      <td>25</td>\n",
       "      <td>Developer Advocate</td>\n",
       "      <td>Poland</td>\n",
       "      <td>NaN</td>\n",
       "    </tr>\n",
       "    <tr>\n",
       "      <th>12</th>\n",
       "      <td>I am a developer by profession</td>\n",
       "      <td>35-44 years old</td>\n",
       "      <td>Employed, full-time</td>\n",
       "      <td>Hybrid</td>\n",
       "      <td>Bachelor</td>\n",
       "      <td>12</td>\n",
       "      <td>Developer, back-end</td>\n",
       "      <td>United States of America</td>\n",
       "      <td>NaN</td>\n",
       "    </tr>\n",
       "  </tbody>\n",
       "</table>\n",
       "</div>"
      ],
      "text/plain": [
       "                       main_branch                 age           employment  work_type education experience             profession                                               country  yearly_salary\n",
       "0   I am a developer by profession  Under 18 years old  Employed, full-time     Remote   Primary        NaN                    NaN                              United States of America            NaN\n",
       "1   I am a developer by profession     35-44 years old  Employed, full-time     Remote  Bachelor         17  Developer, full-stack  United Kingdom of Great Britain and Northern Ireland            NaN\n",
       "2   I am a developer by profession     45-54 years old  Employed, full-time     Remote    Master         27   Developer Experience  United Kingdom of Great Britain and Northern Ireland            NaN\n",
       "11  I am a developer by profession     45-54 years old  Employed, full-time  In-person    Doctor         25     Developer Advocate                                                Poland            NaN\n",
       "12  I am a developer by profession     35-44 years old  Employed, full-time     Hybrid  Bachelor         12    Developer, back-end                              United States of America            NaN"
      ]
     },
     "execution_count": 109,
     "metadata": {},
     "output_type": "execute_result"
    }
   ],
   "source": [
    "df.head()"
   ]
  },
  {
   "cell_type": "markdown",
   "metadata": {},
   "source": [
    "## Experience"
   ]
  },
  {
   "cell_type": "code",
   "execution_count": 124,
   "metadata": {},
   "outputs": [],
   "source": [
    "df['experience'] = df['experience'].replace({'Less than 1 year': 0, 'More than 50 years': 50}).astype('float')"
   ]
  },
  {
   "cell_type": "code",
   "execution_count": 151,
   "metadata": {},
   "outputs": [],
   "source": [
    "df['experience_bin'] = pd.cut(df['experience'], bins=[-np.inf, 1, 3, 6, 10, 15, np.inf], labels=['<=1', '(1, 3]', '(3, 6]', '(6, 10]', '(10, 15]', '15+']).astype('str').replace('nan', 'NA')"
   ]
  },
  {
   "cell_type": "code",
   "execution_count": 152,
   "metadata": {},
   "outputs": [
    {
     "data": {
      "text/plain": [
       "experience_bin\n",
       "15+         8029\n",
       "(6, 10]     7796\n",
       "(3, 6]      7267\n",
       "(1, 3]      5787\n",
       "(10, 15]    5461\n",
       "NA          3179\n",
       "<=1         2418\n",
       "Name: count, dtype: int64"
      ]
     },
     "execution_count": 152,
     "metadata": {},
     "output_type": "execute_result"
    }
   ],
   "source": [
    "df['experience_bin'].value_counts()"
   ]
  },
  {
   "cell_type": "markdown",
   "metadata": {},
   "source": [
    "## Profession"
   ]
  },
  {
   "cell_type": "code",
   "execution_count": 159,
   "metadata": {},
   "outputs": [],
   "source": [
    "profession_list = [\n",
    "    'Developer, full-stack',\n",
    "    'Developer Experience',\n",
    "    'Developer Advocate',\n",
    "    'Developer, back-end',\n",
    "    'Database administrator',\n",
    "    'Developer, desktop or enterprise applications',\n",
    "    'Cloud infrastructure engineer',\n",
    "    'Data scientist or machine learning specialist',\n",
    "    'Research & Development role',\n",
    "    'Academic researcher',\n",
    "    'Developer, embedded applications or devices',\n",
    "    'Engineering manager',\n",
    "    'DevOps specialist',\n",
    "    'Developer, mobile',\n",
    "    'Developer, front-end',\n",
    "    'Data or business analyst',\n",
    "    'Developer, game or graphics',\n",
    "    'Developer, QA or test',\n",
    "    'Developer, AI',\n",
    "    'Engineer, site reliability',\n",
    "    'Security professional',\n",
    "    'System administrator',\n",
    "    'Hardware Engineer',\n",
    "    'Data engineer',\n",
    "    'Blockchain',\n",
    "]"
   ]
  },
  {
   "cell_type": "code",
   "execution_count": 162,
   "metadata": {},
   "outputs": [],
   "source": [
    "df = df.loc[df['profession'].isin(profession_list)]"
   ]
  },
  {
   "cell_type": "markdown",
   "metadata": {},
   "source": [
    "## Country"
   ]
  },
  {
   "cell_type": "code",
   "execution_count": 167,
   "metadata": {},
   "outputs": [],
   "source": [
    "countries_continents_mapping = {\n",
    "    \"United Kingdom of Great Britain and Northern Ireland\": \"Europe\",\n",
    "    \"Poland\": \"Europe\",\n",
    "    \"United States of America\": \"North America\",\n",
    "    \"Switzerland\": \"Europe\",\n",
    "    \"Germany\": \"Europe\",\n",
    "    \"Ireland\": \"Europe\",\n",
    "    \"Italy\": \"Europe\",\n",
    "    \"Ukraine\": \"Europe\",\n",
    "    \"Philippines\": \"Asia\",\n",
    "    \"Brazil\": \"South America\",\n",
    "    \"Japan\": \"Asia\",\n",
    "    \"Iran, Islamic Republic of...\": \"Asia\",\n",
    "    \"Austria\": \"Europe\",\n",
    "    \"Romania\": \"Europe\",\n",
    "    \"Bulgaria\": \"Europe\",\n",
    "    \"Turkey\": \"Europe/Asia\",\n",
    "    \"Croatia\": \"Europe\",\n",
    "    \"Pakistan\": \"Asia\",\n",
    "    \"Czech Republic\": \"Europe\",\n",
    "    \"Republic of North Macedonia\": \"Europe\",\n",
    "    \"Finland\": \"Europe\",\n",
    "    \"Slovakia\": \"Europe\",\n",
    "    \"Greece\": \"Europe\",\n",
    "    \"India\": \"Asia\",\n",
    "    \"Belgium\": \"Europe\",\n",
    "    \"Sweden\": \"Europe\",\n",
    "    \"Argentina\": \"South America\",\n",
    "    \"Sri Lanka\": \"Asia\",\n",
    "    \"Latvia\": \"Europe\",\n",
    "    \"Portugal\": \"Europe\",\n",
    "    \"Singapore\": \"Asia\",\n",
    "    \"China\": \"Asia\",\n",
    "    \"Spain\": \"Europe\",\n",
    "    \"Hungary\": \"Europe\",\n",
    "    \"Russian Federation\": \"Europe/Asia\",\n",
    "    \"Canada\": \"North America\",\n",
    "    \"Lithuania\": \"Europe\",\n",
    "    \"France\": \"Europe\",\n",
    "    \"Netherlands\": \"Europe\",\n",
    "    \"Viet Nam\": \"Asia\",\n",
    "    \"Serbia\": \"Europe\",\n",
    "    \"Morocco\": \"Africa\",\n",
    "    \"Taiwan\": \"Asia\",\n",
    "    \"Georgia\": \"Europe/Asia\",\n",
    "    \"San Marino\": \"Europe\",\n",
    "    \"Tunisia\": \"Africa\",\n",
    "    \"Bangladesh\": \"Asia\",\n",
    "    \"Nigeria\": \"Africa\",\n",
    "    \"Liechtenstein\": \"Europe\",\n",
    "    \"Australia\": \"Oceania\",\n",
    "    \"Ecuador\": \"South America\",\n",
    "    \"Mexico\": \"North America\",\n",
    "    \"Albania\": \"Europe\",\n",
    "    \"Israel\": \"Asia\",\n",
    "    \"South Africa\": \"Africa\",\n",
    "    \"Chile\": \"South America\",\n",
    "    \"Lebanon\": \"Asia\",\n",
    "    \"Algeria\": \"Africa\",\n",
    "    \"Peru\": \"South America\",\n",
    "    \"Bolivia\": \"South America\",\n",
    "    \"Cyprus\": \"Europe/Asia\",\n",
    "    \"Kazakhstan\": \"Asia\",\n",
    "    \"Slovenia\": \"Europe\",\n",
    "    \"Costa Rica\": \"North America\",\n",
    "    \"Norway\": \"Europe\",\n",
    "    \"Venezuela, Bolivarian Republic of...\": \"South America\",\n",
    "    \"Denmark\": \"Europe\",\n",
    "    \"Nicaragua\": \"North America\",\n",
    "    \"Thailand\": \"Asia\",\n",
    "    \"Rwanda\": \"Africa\",\n",
    "    \"Bosnia and Herzegovina\": \"Europe\",\n",
    "    \"Saudi Arabia\": \"Asia\",\n",
    "    \"Malaysia\": \"Asia\",\n",
    "    \"Zimbabwe\": \"Africa\",\n",
    "    \"Afghanistan\": \"Asia\",\n",
    "    \"Malta\": \"Europe\",\n",
    "    \"Uruguay\": \"South America\",\n",
    "    \"Belarus\": \"Europe\",\n",
    "    \"New Zealand\": \"Oceania\",\n",
    "    \"Palestine\": \"Asia\",\n",
    "    \"Armenia\": \"Europe/Asia\",\n",
    "    \"Paraguay\": \"South America\",\n",
    "    \"Maldives\": \"Asia\",\n",
    "    \"Egypt\": \"Africa\",\n",
    "    \"United Arab Emirates\": \"Asia\",\n",
    "    \"Fiji\": \"Oceania\",\n",
    "    \"Indonesia\": \"Asia\",\n",
    "    \"El Salvador\": \"North America\",\n",
    "    \"Guatemala\": \"North America\",\n",
    "    \"Mauritius\": \"Africa\",\n",
    "    \"Cuba\": \"North America\",\n",
    "    \"Estonia\": \"Europe\",\n",
    "    \"Kenya\": \"Africa\",\n",
    "    \"Gabon\": \"Africa\",\n",
    "    \"Colombia\": \"South America\",\n",
    "    \"South Korea\": \"Asia\",\n",
    "    \"Iceland\": \"Europe\",\n",
    "    \"Honduras\": \"North America\",\n",
    "    \"Hong Kong (S.A.R.)\": \"Asia\",\n",
    "    \"Dominican Republic\": \"North America\",\n",
    "    \"Mongolia\": \"Asia\",\n",
    "    \"Nepal\": \"Asia\",\n",
    "    \"Uzbekistan\": \"Asia\",\n",
    "    \"Republic of Korea\": \"Asia\",\n",
    "    \"Madagascar\": \"Africa\",\n",
    "    \"Cambodia\": \"Asia\",\n",
    "    \"Montenegro\": \"Europe\",\n",
    "    \"Angola\": \"Africa\",\n",
    "    \"Benin\": \"Africa\",\n",
    "    \"Democratic Republic of the Congo\": \"Africa\",\n",
    "    \"Syrian Arab Republic\": \"Asia\",\n",
    "    \"Iraq\": \"Asia\",\n",
    "    \"Namibia\": \"Africa\",\n",
    "    \"Kyrgyzstan\": \"Asia\",\n",
    "    \"Luxembourg\": \"Europe\",\n",
    "    \"Lao People's Democratic Republic\": \"Asia\",\n",
    "    \"Senegal\": \"Africa\",\n",
    "    \"Tajikistan\": \"Asia\",\n",
    "    \"Isle of Man\": \"Europe\",\n",
    "    \"Burundi\": \"Africa\",\n",
    "    \"Sierra Leone\": \"Africa\",\n",
    "    \"Panama\": \"North America\",\n",
    "    \"Somalia\": \"Africa\",\n",
    "    \"Ethiopia\": \"Africa\",\n",
    "    \"Togo\": \"Africa\",\n",
    "    \"Jordan\": \"Asia\",\n",
    "    \"Oman\": \"Asia\",\n",
    "    \"Ghana\": \"Africa\",\n",
    "    \"Bahamas\": \"North America\",\n",
    "    \"Nomadic\": \"N/A\",\n",
    "    \"Andorra\": \"Europe\",\n",
    "    \"United Republic of Tanzania\": \"Africa\",\n",
    "    \"Democratic People's Republic of Korea\": \"Asia\",\n",
    "    \"Kuwait\": \"Asia\",\n",
    "    \"Republic of Moldova\": \"Europe\",\n",
    "    \"Qatar\": \"Asia\",\n",
    "    \"Sudan\": \"Africa\",\n",
    "    \"Uganda\": \"Africa\",\n",
    "    \"Turkmenistan\": \"Asia\",\n",
    "    \"Kosovo\": \"Europe\",\n",
    "    \"Bahrain\": \"Asia\",\n",
    "    \"Côte d'Ivoire\": \"Africa\",\n",
    "    \"Malawi\": \"Africa\",\n",
    "    \"Burkina Faso\": \"Africa\",\n",
    "    \"Zambia\": \"Africa\",\n",
    "    \"Yemen\": \"Asia\",\n",
    "    \"Azerbaijan\": \"Europe/Asia\",\n",
    "    \"Myanmar\": \"Asia\",\n",
    "    \"Suriname\": \"South America\",\n",
    "    \"Belize\": \"North America\",\n",
    "    \"Libyan Arab Jamahiriya\": \"Africa\",\n",
    "    \"Cape Verde\": \"Africa\",\n",
    "    \"Bhutan\": \"Asia\",\n",
    "    \"Trinidad and Tobago\": \"North America\",\n",
    "    \"Jamaica\": \"North America\",\n",
    "    \"Mauritania\": \"Africa\",\n",
    "    \"Mozambique\": \"Africa\",\n",
    "    \"Antigua and Barbuda\": \"North America\",\n",
    "    \"Samoa\": \"Oceania\",\n",
    "    \"Brunei Darussalam\": \"Asia\",\n",
    "    \"Lesotho\": \"Africa\",\n",
    "    \"Guyana\": \"South America\",\n",
    "    \"Botswana\": \"Africa\",\n",
    "    \"Cameroon\": \"Africa\",\n",
    "    \"Barbados\": \"North America\",\n",
    "    \"Congo, Republic of the...\": \"Africa\",\n",
    "    \"Swaziland\": \"Africa\",\n",
    "}\n"
   ]
  },
  {
   "cell_type": "code",
   "execution_count": 169,
   "metadata": {},
   "outputs": [
    {
     "name": "stderr",
     "output_type": "stream",
     "text": [
      "C:\\Users\\erasm\\AppData\\Local\\Temp\\ipykernel_26592\\3039858446.py:1: SettingWithCopyWarning: \n",
      "A value is trying to be set on a copy of a slice from a DataFrame.\n",
      "Try using .loc[row_indexer,col_indexer] = value instead\n",
      "\n",
      "See the caveats in the documentation: https://pandas.pydata.org/pandas-docs/stable/user_guide/indexing.html#returning-a-view-versus-a-copy\n",
      "  df['continent'] = df['country'].map(countries_continents_mapping).fillna('N/A')\n"
     ]
    }
   ],
   "source": [
    "df['continent'] = df['country'].map(countries_continents_mapping).fillna('N/A')"
   ]
  },
  {
   "cell_type": "code",
   "execution_count": 172,
   "metadata": {},
   "outputs": [
    {
     "data": {
      "text/plain": [
       "continent\n",
       "Europe           16304\n",
       "North America     8469\n",
       "Asia              5421\n",
       "South America     1478\n",
       "Europe/Asia        940\n",
       "Oceania            933\n",
       "N/A                826\n",
       "Africa             745\n",
       "Name: count, dtype: int64"
      ]
     },
     "execution_count": 172,
     "metadata": {},
     "output_type": "execute_result"
    }
   ],
   "source": [
    "df['continent'].value_counts()"
   ]
  },
  {
   "cell_type": "code",
   "execution_count": 174,
   "metadata": {},
   "outputs": [
    {
     "data": {
      "text/html": [
       "<div>\n",
       "<style scoped>\n",
       "    .dataframe tbody tr th:only-of-type {\n",
       "        vertical-align: middle;\n",
       "    }\n",
       "\n",
       "    .dataframe tbody tr th {\n",
       "        vertical-align: top;\n",
       "    }\n",
       "\n",
       "    .dataframe thead th {\n",
       "        text-align: right;\n",
       "    }\n",
       "</style>\n",
       "<table border=\"1\" class=\"dataframe\">\n",
       "  <thead>\n",
       "    <tr style=\"text-align: right;\">\n",
       "      <th></th>\n",
       "      <th>main_branch</th>\n",
       "      <th>age</th>\n",
       "      <th>employment</th>\n",
       "      <th>work_type</th>\n",
       "      <th>education</th>\n",
       "      <th>experience</th>\n",
       "      <th>profession</th>\n",
       "      <th>country</th>\n",
       "      <th>yearly_salary</th>\n",
       "      <th>experience_bin</th>\n",
       "      <th>continent</th>\n",
       "    </tr>\n",
       "  </thead>\n",
       "  <tbody>\n",
       "    <tr>\n",
       "      <th>1</th>\n",
       "      <td>I am a developer by profession</td>\n",
       "      <td>35-44 years old</td>\n",
       "      <td>Employed, full-time</td>\n",
       "      <td>Remote</td>\n",
       "      <td>Bachelor</td>\n",
       "      <td>17.0</td>\n",
       "      <td>Developer, full-stack</td>\n",
       "      <td>United Kingdom of Great Britain and Northern Ireland</td>\n",
       "      <td>NaN</td>\n",
       "      <td>15+</td>\n",
       "      <td>Europe</td>\n",
       "    </tr>\n",
       "    <tr>\n",
       "      <th>2</th>\n",
       "      <td>I am a developer by profession</td>\n",
       "      <td>45-54 years old</td>\n",
       "      <td>Employed, full-time</td>\n",
       "      <td>Remote</td>\n",
       "      <td>Master</td>\n",
       "      <td>27.0</td>\n",
       "      <td>Developer Experience</td>\n",
       "      <td>United Kingdom of Great Britain and Northern Ireland</td>\n",
       "      <td>NaN</td>\n",
       "      <td>15+</td>\n",
       "      <td>Europe</td>\n",
       "    </tr>\n",
       "    <tr>\n",
       "      <th>11</th>\n",
       "      <td>I am a developer by profession</td>\n",
       "      <td>45-54 years old</td>\n",
       "      <td>Employed, full-time</td>\n",
       "      <td>In-person</td>\n",
       "      <td>Doctor</td>\n",
       "      <td>25.0</td>\n",
       "      <td>Developer Advocate</td>\n",
       "      <td>Poland</td>\n",
       "      <td>NaN</td>\n",
       "      <td>15+</td>\n",
       "      <td>Europe</td>\n",
       "    </tr>\n",
       "    <tr>\n",
       "      <th>12</th>\n",
       "      <td>I am a developer by profession</td>\n",
       "      <td>35-44 years old</td>\n",
       "      <td>Employed, full-time</td>\n",
       "      <td>Hybrid</td>\n",
       "      <td>Bachelor</td>\n",
       "      <td>12.0</td>\n",
       "      <td>Developer, back-end</td>\n",
       "      <td>United States of America</td>\n",
       "      <td>NaN</td>\n",
       "      <td>(10, 15]</td>\n",
       "      <td>North America</td>\n",
       "    </tr>\n",
       "    <tr>\n",
       "      <th>15</th>\n",
       "      <td>I am a developer by profession</td>\n",
       "      <td>45-54 years old</td>\n",
       "      <td>Employed, full-time</td>\n",
       "      <td>Hybrid</td>\n",
       "      <td>Other</td>\n",
       "      <td>27.0</td>\n",
       "      <td>Developer, full-stack</td>\n",
       "      <td>Switzerland</td>\n",
       "      <td>NaN</td>\n",
       "      <td>15+</td>\n",
       "      <td>Europe</td>\n",
       "    </tr>\n",
       "    <tr>\n",
       "      <th>...</th>\n",
       "      <td>...</td>\n",
       "      <td>...</td>\n",
       "      <td>...</td>\n",
       "      <td>...</td>\n",
       "      <td>...</td>\n",
       "      <td>...</td>\n",
       "      <td>...</td>\n",
       "      <td>...</td>\n",
       "      <td>...</td>\n",
       "      <td>...</td>\n",
       "      <td>...</td>\n",
       "    </tr>\n",
       "    <tr>\n",
       "      <th>65428</th>\n",
       "      <td>I am a developer by profession</td>\n",
       "      <td>25-34 years old</td>\n",
       "      <td>Employed, full-time</td>\n",
       "      <td>Remote</td>\n",
       "      <td>Bachelor</td>\n",
       "      <td>7.0</td>\n",
       "      <td>Developer, back-end</td>\n",
       "      <td>India</td>\n",
       "      <td>NaN</td>\n",
       "      <td>(6, 10]</td>\n",
       "      <td>Asia</td>\n",
       "    </tr>\n",
       "    <tr>\n",
       "      <th>65431</th>\n",
       "      <td>I am a developer by profession</td>\n",
       "      <td>45-54 years old</td>\n",
       "      <td>Employed, full-time</td>\n",
       "      <td>Hybrid</td>\n",
       "      <td>Bachelor</td>\n",
       "      <td>24.0</td>\n",
       "      <td>Developer, full-stack</td>\n",
       "      <td>Belgium</td>\n",
       "      <td>55000.0</td>\n",
       "      <td>15+</td>\n",
       "      <td>Europe</td>\n",
       "    </tr>\n",
       "    <tr>\n",
       "      <th>65432</th>\n",
       "      <td>I am a developer by profession</td>\n",
       "      <td>18-24 years old</td>\n",
       "      <td>Employed, full-time</td>\n",
       "      <td>Remote</td>\n",
       "      <td>Bachelor</td>\n",
       "      <td>3.0</td>\n",
       "      <td>Blockchain</td>\n",
       "      <td>NaN</td>\n",
       "      <td>NaN</td>\n",
       "      <td>(1, 3]</td>\n",
       "      <td>N/A</td>\n",
       "    </tr>\n",
       "    <tr>\n",
       "      <th>65434</th>\n",
       "      <td>I am a developer by profession</td>\n",
       "      <td>25-34 years old</td>\n",
       "      <td>Employed, full-time</td>\n",
       "      <td>In-person</td>\n",
       "      <td>Bachelor</td>\n",
       "      <td>5.0</td>\n",
       "      <td>Developer, mobile</td>\n",
       "      <td>NaN</td>\n",
       "      <td>NaN</td>\n",
       "      <td>(3, 6]</td>\n",
       "      <td>N/A</td>\n",
       "    </tr>\n",
       "    <tr>\n",
       "      <th>65435</th>\n",
       "      <td>I am a developer by profession</td>\n",
       "      <td>18-24 years old</td>\n",
       "      <td>Employed, full-time</td>\n",
       "      <td>Hybrid</td>\n",
       "      <td>Other</td>\n",
       "      <td>2.0</td>\n",
       "      <td>Developer, back-end</td>\n",
       "      <td>Germany</td>\n",
       "      <td>NaN</td>\n",
       "      <td>(1, 3]</td>\n",
       "      <td>Europe</td>\n",
       "    </tr>\n",
       "  </tbody>\n",
       "</table>\n",
       "<p>35116 rows × 11 columns</p>\n",
       "</div>"
      ],
      "text/plain": [
       "                          main_branch              age           employment  work_type education  experience             profession                                               country  yearly_salary experience_bin      continent\n",
       "1      I am a developer by profession  35-44 years old  Employed, full-time     Remote  Bachelor        17.0  Developer, full-stack  United Kingdom of Great Britain and Northern Ireland            NaN            15+         Europe\n",
       "2      I am a developer by profession  45-54 years old  Employed, full-time     Remote    Master        27.0   Developer Experience  United Kingdom of Great Britain and Northern Ireland            NaN            15+         Europe\n",
       "11     I am a developer by profession  45-54 years old  Employed, full-time  In-person    Doctor        25.0     Developer Advocate                                                Poland            NaN            15+         Europe\n",
       "12     I am a developer by profession  35-44 years old  Employed, full-time     Hybrid  Bachelor        12.0    Developer, back-end                              United States of America            NaN       (10, 15]  North America\n",
       "15     I am a developer by profession  45-54 years old  Employed, full-time     Hybrid     Other        27.0  Developer, full-stack                                           Switzerland            NaN            15+         Europe\n",
       "...                               ...              ...                  ...        ...       ...         ...                    ...                                                   ...            ...            ...            ...\n",
       "65428  I am a developer by profession  25-34 years old  Employed, full-time     Remote  Bachelor         7.0    Developer, back-end                                                 India            NaN        (6, 10]           Asia\n",
       "65431  I am a developer by profession  45-54 years old  Employed, full-time     Hybrid  Bachelor        24.0  Developer, full-stack                                               Belgium        55000.0            15+         Europe\n",
       "65432  I am a developer by profession  18-24 years old  Employed, full-time     Remote  Bachelor         3.0             Blockchain                                                   NaN            NaN         (1, 3]            N/A\n",
       "65434  I am a developer by profession  25-34 years old  Employed, full-time  In-person  Bachelor         5.0      Developer, mobile                                                   NaN            NaN         (3, 6]            N/A\n",
       "65435  I am a developer by profession  18-24 years old  Employed, full-time     Hybrid     Other         2.0    Developer, back-end                                               Germany            NaN         (1, 3]         Europe\n",
       "\n",
       "[35116 rows x 11 columns]"
      ]
     },
     "execution_count": 174,
     "metadata": {},
     "output_type": "execute_result"
    }
   ],
   "source": [
    "df"
   ]
  },
  {
   "cell_type": "markdown",
   "metadata": {},
   "source": [
    "## Target (Yearly Salary)"
   ]
  },
  {
   "cell_type": "code",
   "execution_count": 183,
   "metadata": {},
   "outputs": [],
   "source": [
    "# Lets remove who receives less than 1k/month and more than 50k/month\n",
    "\n",
    "df = df.loc[(df['yearly_salary'] >= 12_000) & (df['yearly_salary'] <= 600_000)]"
   ]
  },
  {
   "cell_type": "code",
   "execution_count": 186,
   "metadata": {},
   "outputs": [
    {
     "data": {
      "text/plain": [
       "experience_bin\n",
       "(3, 6]      117461.643430\n",
       "(1, 3]      118908.884402\n",
       "NA          121570.242424\n",
       "<=1         124231.094372\n",
       "(6, 10]     133754.457634\n",
       "(10, 15]    145241.361015\n",
       "15+         147259.905870\n",
       "Name: yearly_salary, dtype: float64"
      ]
     },
     "execution_count": 186,
     "metadata": {},
     "output_type": "execute_result"
    }
   ],
   "source": [
    "df.groupby('experience_bin')['yearly_salary'].mean().sort_values()"
   ]
  },
  {
   "cell_type": "code",
   "execution_count": 187,
   "metadata": {},
   "outputs": [
    {
     "data": {
      "text/plain": [
       "0"
      ]
     },
     "execution_count": 187,
     "metadata": {},
     "output_type": "execute_result"
    }
   ],
   "source": [
    "df['yearly_salary'].isna().sum()"
   ]
  },
  {
   "cell_type": "markdown",
   "metadata": {},
   "source": [
    "## Saving Data"
   ]
  },
  {
   "cell_type": "code",
   "execution_count": 189,
   "metadata": {},
   "outputs": [],
   "source": [
    "final_features = [\n",
    "    'age',\n",
    "    'work_type',\n",
    "    'education',\n",
    "    'experience',\n",
    "    'experience_bin',\n",
    "    'profession',\n",
    "    'continent',\n",
    "    'yearly_salary'\n",
    "]\n",
    "\n",
    "df = df[final_features].rename(columns={'yearly_salary': 'target'})"
   ]
  },
  {
   "cell_type": "code",
   "execution_count": 190,
   "metadata": {},
   "outputs": [
    {
     "data": {
      "text/html": [
       "<div>\n",
       "<style scoped>\n",
       "    .dataframe tbody tr th:only-of-type {\n",
       "        vertical-align: middle;\n",
       "    }\n",
       "\n",
       "    .dataframe tbody tr th {\n",
       "        vertical-align: top;\n",
       "    }\n",
       "\n",
       "    .dataframe thead th {\n",
       "        text-align: right;\n",
       "    }\n",
       "</style>\n",
       "<table border=\"1\" class=\"dataframe\">\n",
       "  <thead>\n",
       "    <tr style=\"text-align: right;\">\n",
       "      <th></th>\n",
       "      <th>age</th>\n",
       "      <th>work_type</th>\n",
       "      <th>education</th>\n",
       "      <th>experience</th>\n",
       "      <th>experience_bin</th>\n",
       "      <th>profession</th>\n",
       "      <th>continent</th>\n",
       "      <th>target</th>\n",
       "    </tr>\n",
       "  </thead>\n",
       "  <tbody>\n",
       "    <tr>\n",
       "      <th>379</th>\n",
       "      <td>35-44 years old</td>\n",
       "      <td>Remote</td>\n",
       "      <td>Master</td>\n",
       "      <td>6.0</td>\n",
       "      <td>(3, 6]</td>\n",
       "      <td>Data scientist or machine learning specialist</td>\n",
       "      <td>Europe/Asia</td>\n",
       "      <td>85000.0</td>\n",
       "    </tr>\n",
       "    <tr>\n",
       "      <th>392</th>\n",
       "      <td>35-44 years old</td>\n",
       "      <td>Hybrid</td>\n",
       "      <td>Doctor</td>\n",
       "      <td>18.0</td>\n",
       "      <td>15+</td>\n",
       "      <td>Engineering manager</td>\n",
       "      <td>Europe</td>\n",
       "      <td>126420.0</td>\n",
       "    </tr>\n",
       "    <tr>\n",
       "      <th>398</th>\n",
       "      <td>45-54 years old</td>\n",
       "      <td>Remote</td>\n",
       "      <td>Other</td>\n",
       "      <td>30.0</td>\n",
       "      <td>15+</td>\n",
       "      <td>Developer, full-stack</td>\n",
       "      <td>North America</td>\n",
       "      <td>195000.0</td>\n",
       "    </tr>\n",
       "    <tr>\n",
       "      <th>403</th>\n",
       "      <td>35-44 years old</td>\n",
       "      <td>Remote</td>\n",
       "      <td>Other</td>\n",
       "      <td>20.0</td>\n",
       "      <td>15+</td>\n",
       "      <td>Developer, full-stack</td>\n",
       "      <td>Europe</td>\n",
       "      <td>35000.0</td>\n",
       "    </tr>\n",
       "    <tr>\n",
       "      <th>414</th>\n",
       "      <td>45-54 years old</td>\n",
       "      <td>Remote</td>\n",
       "      <td>Bachelor</td>\n",
       "      <td>27.0</td>\n",
       "      <td>15+</td>\n",
       "      <td>Developer, back-end</td>\n",
       "      <td>Europe</td>\n",
       "      <td>145000.0</td>\n",
       "    </tr>\n",
       "    <tr>\n",
       "      <th>...</th>\n",
       "      <td>...</td>\n",
       "      <td>...</td>\n",
       "      <td>...</td>\n",
       "      <td>...</td>\n",
       "      <td>...</td>\n",
       "      <td>...</td>\n",
       "      <td>...</td>\n",
       "      <td>...</td>\n",
       "    </tr>\n",
       "    <tr>\n",
       "      <th>65396</th>\n",
       "      <td>18-24 years old</td>\n",
       "      <td>Hybrid</td>\n",
       "      <td>Other</td>\n",
       "      <td>3.0</td>\n",
       "      <td>(1, 3]</td>\n",
       "      <td>Developer, full-stack</td>\n",
       "      <td>Europe</td>\n",
       "      <td>36000.0</td>\n",
       "    </tr>\n",
       "    <tr>\n",
       "      <th>65401</th>\n",
       "      <td>25-34 years old</td>\n",
       "      <td>Hybrid</td>\n",
       "      <td>Bachelor</td>\n",
       "      <td>7.0</td>\n",
       "      <td>(6, 10]</td>\n",
       "      <td>Developer, full-stack</td>\n",
       "      <td>Europe</td>\n",
       "      <td>40000.0</td>\n",
       "    </tr>\n",
       "    <tr>\n",
       "      <th>65408</th>\n",
       "      <td>25-34 years old</td>\n",
       "      <td>Hybrid</td>\n",
       "      <td>Master</td>\n",
       "      <td>9.0</td>\n",
       "      <td>(6, 10]</td>\n",
       "      <td>Developer, full-stack</td>\n",
       "      <td>Europe</td>\n",
       "      <td>61000.0</td>\n",
       "    </tr>\n",
       "    <tr>\n",
       "      <th>65412</th>\n",
       "      <td>35-44 years old</td>\n",
       "      <td>Remote</td>\n",
       "      <td>Bachelor</td>\n",
       "      <td>18.0</td>\n",
       "      <td>15+</td>\n",
       "      <td>Developer, back-end</td>\n",
       "      <td>Europe</td>\n",
       "      <td>58000.0</td>\n",
       "    </tr>\n",
       "    <tr>\n",
       "      <th>65431</th>\n",
       "      <td>45-54 years old</td>\n",
       "      <td>Hybrid</td>\n",
       "      <td>Bachelor</td>\n",
       "      <td>24.0</td>\n",
       "      <td>15+</td>\n",
       "      <td>Developer, full-stack</td>\n",
       "      <td>Europe</td>\n",
       "      <td>55000.0</td>\n",
       "    </tr>\n",
       "  </tbody>\n",
       "</table>\n",
       "<p>20817 rows × 8 columns</p>\n",
       "</div>"
      ],
      "text/plain": [
       "                   age work_type education  experience experience_bin                                     profession      continent    target\n",
       "379    35-44 years old    Remote    Master         6.0         (3, 6]  Data scientist or machine learning specialist    Europe/Asia   85000.0\n",
       "392    35-44 years old    Hybrid    Doctor        18.0            15+                            Engineering manager         Europe  126420.0\n",
       "398    45-54 years old    Remote     Other        30.0            15+                          Developer, full-stack  North America  195000.0\n",
       "403    35-44 years old    Remote     Other        20.0            15+                          Developer, full-stack         Europe   35000.0\n",
       "414    45-54 years old    Remote  Bachelor        27.0            15+                            Developer, back-end         Europe  145000.0\n",
       "...                ...       ...       ...         ...            ...                                            ...            ...       ...\n",
       "65396  18-24 years old    Hybrid     Other         3.0         (1, 3]                          Developer, full-stack         Europe   36000.0\n",
       "65401  25-34 years old    Hybrid  Bachelor         7.0        (6, 10]                          Developer, full-stack         Europe   40000.0\n",
       "65408  25-34 years old    Hybrid    Master         9.0        (6, 10]                          Developer, full-stack         Europe   61000.0\n",
       "65412  35-44 years old    Remote  Bachelor        18.0            15+                            Developer, back-end         Europe   58000.0\n",
       "65431  45-54 years old    Hybrid  Bachelor        24.0            15+                          Developer, full-stack         Europe   55000.0\n",
       "\n",
       "[20817 rows x 8 columns]"
      ]
     },
     "execution_count": 190,
     "metadata": {},
     "output_type": "execute_result"
    }
   ],
   "source": [
    "df"
   ]
  },
  {
   "cell_type": "code",
   "execution_count": 192,
   "metadata": {},
   "outputs": [],
   "source": [
    "df.to_csv('../data/preprocessed/preprocessed_data.csv', sep=';', index=False)"
   ]
  },
  {
   "cell_type": "code",
   "execution_count": 193,
   "metadata": {},
   "outputs": [
    {
     "data": {
      "text/html": [
       "<div>\n",
       "<style scoped>\n",
       "    .dataframe tbody tr th:only-of-type {\n",
       "        vertical-align: middle;\n",
       "    }\n",
       "\n",
       "    .dataframe tbody tr th {\n",
       "        vertical-align: top;\n",
       "    }\n",
       "\n",
       "    .dataframe thead th {\n",
       "        text-align: right;\n",
       "    }\n",
       "</style>\n",
       "<table border=\"1\" class=\"dataframe\">\n",
       "  <thead>\n",
       "    <tr style=\"text-align: right;\">\n",
       "      <th></th>\n",
       "      <th>age</th>\n",
       "      <th>work_type</th>\n",
       "      <th>education</th>\n",
       "      <th>experience</th>\n",
       "      <th>experience_bin</th>\n",
       "      <th>profession</th>\n",
       "      <th>continent</th>\n",
       "      <th>target</th>\n",
       "    </tr>\n",
       "  </thead>\n",
       "  <tbody>\n",
       "    <tr>\n",
       "      <th>0</th>\n",
       "      <td>35-44 years old</td>\n",
       "      <td>Remote</td>\n",
       "      <td>Master</td>\n",
       "      <td>6.0</td>\n",
       "      <td>(3, 6]</td>\n",
       "      <td>Data scientist or machine learning specialist</td>\n",
       "      <td>Europe/Asia</td>\n",
       "      <td>85000.0</td>\n",
       "    </tr>\n",
       "    <tr>\n",
       "      <th>1</th>\n",
       "      <td>35-44 years old</td>\n",
       "      <td>Hybrid</td>\n",
       "      <td>Doctor</td>\n",
       "      <td>18.0</td>\n",
       "      <td>15+</td>\n",
       "      <td>Engineering manager</td>\n",
       "      <td>Europe</td>\n",
       "      <td>126420.0</td>\n",
       "    </tr>\n",
       "    <tr>\n",
       "      <th>2</th>\n",
       "      <td>45-54 years old</td>\n",
       "      <td>Remote</td>\n",
       "      <td>Other</td>\n",
       "      <td>30.0</td>\n",
       "      <td>15+</td>\n",
       "      <td>Developer, full-stack</td>\n",
       "      <td>North America</td>\n",
       "      <td>195000.0</td>\n",
       "    </tr>\n",
       "    <tr>\n",
       "      <th>3</th>\n",
       "      <td>35-44 years old</td>\n",
       "      <td>Remote</td>\n",
       "      <td>Other</td>\n",
       "      <td>20.0</td>\n",
       "      <td>15+</td>\n",
       "      <td>Developer, full-stack</td>\n",
       "      <td>Europe</td>\n",
       "      <td>35000.0</td>\n",
       "    </tr>\n",
       "    <tr>\n",
       "      <th>4</th>\n",
       "      <td>45-54 years old</td>\n",
       "      <td>Remote</td>\n",
       "      <td>Bachelor</td>\n",
       "      <td>27.0</td>\n",
       "      <td>15+</td>\n",
       "      <td>Developer, back-end</td>\n",
       "      <td>Europe</td>\n",
       "      <td>145000.0</td>\n",
       "    </tr>\n",
       "  </tbody>\n",
       "</table>\n",
       "</div>"
      ],
      "text/plain": [
       "               age work_type education  experience experience_bin                                     profession      continent    target\n",
       "0  35-44 years old    Remote    Master         6.0         (3, 6]  Data scientist or machine learning specialist    Europe/Asia   85000.0\n",
       "1  35-44 years old    Hybrid    Doctor        18.0            15+                            Engineering manager         Europe  126420.0\n",
       "2  45-54 years old    Remote     Other        30.0            15+                          Developer, full-stack  North America  195000.0\n",
       "3  35-44 years old    Remote     Other        20.0            15+                          Developer, full-stack         Europe   35000.0\n",
       "4  45-54 years old    Remote  Bachelor        27.0            15+                            Developer, back-end         Europe  145000.0"
      ]
     },
     "execution_count": 193,
     "metadata": {},
     "output_type": "execute_result"
    }
   ],
   "source": [
    "pd.read_csv('../data/preprocessed/preprocessed_data.csv', sep=';').head()"
   ]
  }
 ],
 "metadata": {
  "kernelspec": {
   "display_name": "Python 3.12.7 ('salary_prediction')",
   "language": "python",
   "name": "python3"
  },
  "language_info": {
   "codemirror_mode": {
    "name": "ipython",
    "version": 3
   },
   "file_extension": ".py",
   "mimetype": "text/x-python",
   "name": "python",
   "nbconvert_exporter": "python",
   "pygments_lexer": "ipython3",
   "version": "3.12.7"
  },
  "orig_nbformat": 4,
  "vscode": {
   "interpreter": {
    "hash": "3071032c342c84c36f5fd8a3d32f95cc92afbf5dcb384dd31c918ea2ef90054e"
   }
  }
 },
 "nbformat": 4,
 "nbformat_minor": 2
}
